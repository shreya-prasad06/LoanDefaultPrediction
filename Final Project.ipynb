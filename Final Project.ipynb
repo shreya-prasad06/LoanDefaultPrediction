{
 "cells": [
  {
   "cell_type": "code",
   "execution_count": 1,
   "metadata": {},
   "outputs": [],
   "source": [
    "# Importing all the necessary libraries.\n",
    "import matplotlib.pyplot as plt\n",
    "import seaborn as sn\n",
    "from sklearn.model_selection import train_test_split \n",
    "%matplotlib inline\n",
    "import warnings \n",
    "warnings.filterwarnings('ignore') \n",
    "import pandas as pd \n",
    "import numpy as np \n",
    "credit_df = pd.read_csv(\"loanStats.csv\") "
   ]
  },
  {
   "cell_type": "code",
   "execution_count": 2,
   "metadata": {},
   "outputs": [
    {
     "name": "stdout",
     "output_type": "stream",
     "text": [
      "<class 'pandas.core.frame.DataFrame'>\n",
      "RangeIndex: 104499 entries, 0 to 104498\n",
      "Data columns (total 14 columns):\n",
      " #   Column           Non-Null Count   Dtype  \n",
      "---  ------           --------------   -----  \n",
      " 0   id               104499 non-null  int64  \n",
      " 1   member_id        104499 non-null  int64  \n",
      " 2   loan_amnt        104499 non-null  int64  \n",
      " 3   funded_amnt      104499 non-null  int64  \n",
      " 4   funded_amnt_inv  104499 non-null  int64  \n",
      " 5   term             104499 non-null  int64  \n",
      " 6   int_rate         104499 non-null  float64\n",
      " 7   home_ownership   104499 non-null  object \n",
      " 8   annual_inc       104499 non-null  int64  \n",
      " 9   purpose          104499 non-null  object \n",
      " 10  total_pymnt      104499 non-null  float64\n",
      " 11  total_rec_prncp  104499 non-null  float64\n",
      " 12  total_rec_int    104499 non-null  float64\n",
      " 13  loan_status      104499 non-null  int64  \n",
      "dtypes: float64(4), int64(8), object(2)\n",
      "memory usage: 11.2+ MB\n"
     ]
    }
   ],
   "source": [
    "#understanding the dataset\n",
    "credit_df.info()"
   ]
  },
  {
   "cell_type": "code",
   "execution_count": 3,
   "metadata": {},
   "outputs": [],
   "source": [
    "#ID columns will not be of any significance for the model so we remove it from the dataset\n",
    "credit_df=credit_df.drop(columns=['member_id','id'])"
   ]
  },
  {
   "cell_type": "code",
   "execution_count": 4,
   "metadata": {},
   "outputs": [
    {
     "data": {
      "text/plain": [
       "1    93692\n",
       "0    10807\n",
       "Name: loan_status, dtype: int64"
      ]
     },
     "execution_count": 4,
     "metadata": {},
     "output_type": "execute_result"
    }
   ],
   "source": [
    "#finding target variable count to check if the dataset is balanced or imbalanced\n",
    "credit_df.loan_status.value_counts() "
   ]
  },
  {
   "cell_type": "code",
   "execution_count": 5,
   "metadata": {},
   "outputs": [],
   "source": [
    "#the dataset is highly imbalanced so we upsample the dataset\n",
    "## Importing resample from *sklearn.utils* package. \n",
    "from sklearn.utils import resample \n",
    "# Separate the case of yes-subscribes and no-subscribes \n",
    "non_defaulters = credit_df[credit_df.loan_status == 1] \n",
    "defaulters = credit_df[credit_df.loan_status == 0] \n",
    "##Upsample the yes-subscribed cases. \n",
    "df_minority_upsampled = resample(defaulters, replace=True,  n_samples=80000) \n",
    "# Combine majority class with upsampled minority class \n",
    "credit_df = pd.concat([non_defaulters, df_minority_upsampled]) "
   ]
  },
  {
   "cell_type": "code",
   "execution_count": 6,
   "metadata": {},
   "outputs": [
    {
     "data": {
      "text/plain": [
       "1    93692\n",
       "0    80000\n",
       "Name: loan_status, dtype: int64"
      ]
     },
     "execution_count": 6,
     "metadata": {},
     "output_type": "execute_result"
    }
   ],
   "source": [
    "credit_df.loan_status.value_counts()"
   ]
  },
  {
   "cell_type": "code",
   "execution_count": 7,
   "metadata": {},
   "outputs": [
    {
     "data": {
      "text/plain": [
       "loan_amnt          0\n",
       "funded_amnt        0\n",
       "funded_amnt_inv    0\n",
       "term               0\n",
       "int_rate           0\n",
       "home_ownership     0\n",
       "annual_inc         0\n",
       "purpose            0\n",
       "total_pymnt        0\n",
       "total_rec_prncp    0\n",
       "total_rec_int      0\n",
       "loan_status        0\n",
       "dtype: int64"
      ]
     },
     "execution_count": 7,
     "metadata": {},
     "output_type": "execute_result"
    }
   ],
   "source": [
    "#checking for null values\n",
    "credit_df.isnull().sum()"
   ]
  },
  {
   "cell_type": "code",
   "execution_count": 8,
   "metadata": {},
   "outputs": [
    {
     "data": {
      "text/plain": [
       "debt_consolidation    93645\n",
       "credit_card           32330\n",
       "other                 26058\n",
       "home_improvement      21659\n",
       "Name: purpose, dtype: int64"
      ]
     },
     "execution_count": 8,
     "metadata": {},
     "output_type": "execute_result"
    }
   ],
   "source": [
    "credit_df.purpose.value_counts()"
   ]
  },
  {
   "cell_type": "code",
   "execution_count": 9,
   "metadata": {},
   "outputs": [],
   "source": [
    "credit_df = credit_df.fillna(\" \")"
   ]
  },
  {
   "cell_type": "code",
   "execution_count": 10,
   "metadata": {},
   "outputs": [
    {
     "data": {
      "text/html": [
       "<div>\n",
       "<style scoped>\n",
       "    .dataframe tbody tr th:only-of-type {\n",
       "        vertical-align: middle;\n",
       "    }\n",
       "\n",
       "    .dataframe tbody tr th {\n",
       "        vertical-align: top;\n",
       "    }\n",
       "\n",
       "    .dataframe thead th {\n",
       "        text-align: right;\n",
       "    }\n",
       "</style>\n",
       "<table border=\"1\" class=\"dataframe\">\n",
       "  <thead>\n",
       "    <tr style=\"text-align: right;\">\n",
       "      <th></th>\n",
       "      <th>loan_amnt</th>\n",
       "      <th>funded_amnt</th>\n",
       "      <th>funded_amnt_inv</th>\n",
       "      <th>term</th>\n",
       "      <th>int_rate</th>\n",
       "      <th>home_ownership</th>\n",
       "      <th>annual_inc</th>\n",
       "      <th>purpose</th>\n",
       "      <th>total_pymnt</th>\n",
       "      <th>total_rec_prncp</th>\n",
       "      <th>total_rec_int</th>\n",
       "      <th>loan_status</th>\n",
       "    </tr>\n",
       "  </thead>\n",
       "  <tbody>\n",
       "    <tr>\n",
       "      <th>0</th>\n",
       "      <td>5000</td>\n",
       "      <td>5000</td>\n",
       "      <td>4975</td>\n",
       "      <td>36</td>\n",
       "      <td>10.65</td>\n",
       "      <td>OWN</td>\n",
       "      <td>1896</td>\n",
       "      <td>credit_card</td>\n",
       "      <td>5861.07</td>\n",
       "      <td>5000.00</td>\n",
       "      <td>861.07</td>\n",
       "      <td>1</td>\n",
       "    </tr>\n",
       "    <tr>\n",
       "      <th>2</th>\n",
       "      <td>2400</td>\n",
       "      <td>2400</td>\n",
       "      <td>2400</td>\n",
       "      <td>36</td>\n",
       "      <td>15.96</td>\n",
       "      <td>OWN</td>\n",
       "      <td>3300</td>\n",
       "      <td>other</td>\n",
       "      <td>3003.65</td>\n",
       "      <td>2400.00</td>\n",
       "      <td>603.65</td>\n",
       "      <td>1</td>\n",
       "    </tr>\n",
       "    <tr>\n",
       "      <th>3</th>\n",
       "      <td>10000</td>\n",
       "      <td>10000</td>\n",
       "      <td>10000</td>\n",
       "      <td>36</td>\n",
       "      <td>13.49</td>\n",
       "      <td>OWN</td>\n",
       "      <td>3500</td>\n",
       "      <td>other</td>\n",
       "      <td>12226.30</td>\n",
       "      <td>10000.00</td>\n",
       "      <td>2209.33</td>\n",
       "      <td>1</td>\n",
       "    </tr>\n",
       "    <tr>\n",
       "      <th>4</th>\n",
       "      <td>3000</td>\n",
       "      <td>3000</td>\n",
       "      <td>3000</td>\n",
       "      <td>60</td>\n",
       "      <td>12.69</td>\n",
       "      <td>OWN</td>\n",
       "      <td>3600</td>\n",
       "      <td>other</td>\n",
       "      <td>2496.48</td>\n",
       "      <td>1615.66</td>\n",
       "      <td>880.82</td>\n",
       "      <td>1</td>\n",
       "    </tr>\n",
       "    <tr>\n",
       "      <th>5</th>\n",
       "      <td>5000</td>\n",
       "      <td>5000</td>\n",
       "      <td>5000</td>\n",
       "      <td>36</td>\n",
       "      <td>7.90</td>\n",
       "      <td>OWN</td>\n",
       "      <td>4000</td>\n",
       "      <td>other</td>\n",
       "      <td>5631.38</td>\n",
       "      <td>5000.00</td>\n",
       "      <td>631.38</td>\n",
       "      <td>1</td>\n",
       "    </tr>\n",
       "  </tbody>\n",
       "</table>\n",
       "</div>"
      ],
      "text/plain": [
       "   loan_amnt  funded_amnt  funded_amnt_inv  term  int_rate home_ownership  \\\n",
       "0       5000         5000             4975    36     10.65            OWN   \n",
       "2       2400         2400             2400    36     15.96            OWN   \n",
       "3      10000        10000            10000    36     13.49            OWN   \n",
       "4       3000         3000             3000    60     12.69            OWN   \n",
       "5       5000         5000             5000    36      7.90            OWN   \n",
       "\n",
       "   annual_inc      purpose  total_pymnt  total_rec_prncp  total_rec_int  \\\n",
       "0        1896  credit_card      5861.07          5000.00         861.07   \n",
       "2        3300        other      3003.65          2400.00         603.65   \n",
       "3        3500        other     12226.30         10000.00        2209.33   \n",
       "4        3600        other      2496.48          1615.66         880.82   \n",
       "5        4000        other      5631.38          5000.00         631.38   \n",
       "\n",
       "   loan_status  \n",
       "0            1  \n",
       "2            1  \n",
       "3            1  \n",
       "4            1  \n",
       "5            1  "
      ]
     },
     "execution_count": 10,
     "metadata": {},
     "output_type": "execute_result"
    }
   ],
   "source": [
    "#top 5 instances of the dataset\n",
    "credit_df.head()"
   ]
  },
  {
   "cell_type": "code",
   "execution_count": 11,
   "metadata": {},
   "outputs": [
    {
     "name": "stdout",
     "output_type": "stream",
     "text": [
      "Positive examples = 93692\n",
      "Negative examples = 80000\n",
      "Proportion of negative to positive examples = 85.39%\n"
     ]
    },
    {
     "data": {
      "image/png": "[encoded data removed]",
      "text/plain": [
       "<Figure size 576x432 with 1 Axes>"
      ]
     },
     "metadata": {
      "needs_background": "light"
     },
     "output_type": "display_data"
    }
   ],
   "source": [
    "# Get number of positve and negative examples\n",
    "pos = credit_df[credit_df[\"loan_status\"] == 1].shape[0]\n",
    "neg = credit_df[credit_df[\"loan_status\"] == 0].shape[0]\n",
    "print(f\"Positive examples = {pos}\")\n",
    "print(f\"Negative examples = {neg}\")\n",
    "print(f\"Proportion of negative to positive examples = {(neg / pos) * 100:.2f}%\")\n",
    "plt.figure(figsize=(8, 6))\n",
    "sn.countplot(credit_df[\"loan_status\"])\n",
    "plt.xticks((0, 1), [\"Not Paid fully\", \"Paid fully\"])\n",
    "plt.xlabel(\"\")\n",
    "plt.ylabel(\"Count\")\n",
    "plt.title(\"Class counts\", y=1, fontdict={\"fontsize\": 20});"
   ]
  },
  {
   "cell_type": "code",
   "execution_count": 12,
   "metadata": {},
   "outputs": [],
   "source": [
    "#replacing missing values with mean of their coulmns.\n",
    "credit_df['loan_amnt'].fillna((credit_df['loan_amnt'].mean()), inplace=True)\n",
    "credit_df['funded_amnt'].fillna((credit_df['funded_amnt'].mean()), inplace=True)\n",
    "credit_df['funded_amnt_inv'].fillna((credit_df['funded_amnt_inv'].mean()), inplace=True)\n",
    "credit_df['term'].fillna((credit_df['term'].mean()), inplace=True)\n",
    "credit_df['annual_inc'].fillna((credit_df['annual_inc'].mean()), inplace=True)\n",
    "credit_df['int_rate'].fillna((credit_df['int_rate'].mean()), inplace=True)\n",
    "credit_df['home_ownership'].fillna(('RENT'), inplace=True)\n",
    "credit_df['loan_status'].fillna((0), inplace=True)"
   ]
  },
  {
   "cell_type": "code",
   "execution_count": 13,
   "metadata": {},
   "outputs": [
    {
     "data": {
      "text/plain": [
       "loan_amnt          0\n",
       "funded_amnt        0\n",
       "funded_amnt_inv    0\n",
       "term               0\n",
       "int_rate           0\n",
       "home_ownership     0\n",
       "annual_inc         0\n",
       "purpose            0\n",
       "total_pymnt        0\n",
       "total_rec_prncp    0\n",
       "total_rec_int      0\n",
       "loan_status        0\n",
       "dtype: int64"
      ]
     },
     "execution_count": 13,
     "metadata": {},
     "output_type": "execute_result"
    }
   ],
   "source": [
    "credit_df.isnull().sum()"
   ]
  },
  {
   "cell_type": "code",
   "execution_count": 14,
   "metadata": {},
   "outputs": [
    {
     "data": {
      "text/html": [
       "<div>\n",
       "<style scoped>\n",
       "    .dataframe tbody tr th:only-of-type {\n",
       "        vertical-align: middle;\n",
       "    }\n",
       "\n",
       "    .dataframe tbody tr th {\n",
       "        vertical-align: top;\n",
       "    }\n",
       "\n",
       "    .dataframe thead th {\n",
       "        text-align: right;\n",
       "    }\n",
       "</style>\n",
       "<table border=\"1\" class=\"dataframe\">\n",
       "  <thead>\n",
       "    <tr style=\"text-align: right;\">\n",
       "      <th></th>\n",
       "      <th>loan_amnt</th>\n",
       "      <th>funded_amnt</th>\n",
       "      <th>funded_amnt_inv</th>\n",
       "      <th>term</th>\n",
       "      <th>int_rate</th>\n",
       "      <th>annual_inc</th>\n",
       "      <th>total_pymnt</th>\n",
       "      <th>total_rec_prncp</th>\n",
       "      <th>total_rec_int</th>\n",
       "      <th>loan_status</th>\n",
       "    </tr>\n",
       "  </thead>\n",
       "  <tbody>\n",
       "    <tr>\n",
       "      <th>count</th>\n",
       "      <td>173692.000000</td>\n",
       "      <td>173692.000000</td>\n",
       "      <td>173692.000000</td>\n",
       "      <td>173692.000000</td>\n",
       "      <td>173692.000000</td>\n",
       "      <td>1.736920e+05</td>\n",
       "      <td>173692.000000</td>\n",
       "      <td>173692.000000</td>\n",
       "      <td>173692.000000</td>\n",
       "      <td>173692.000000</td>\n",
       "    </tr>\n",
       "    <tr>\n",
       "      <th>mean</th>\n",
       "      <td>13152.896650</td>\n",
       "      <td>13009.695467</td>\n",
       "      <td>12558.372366</td>\n",
       "      <td>43.419755</td>\n",
       "      <td>14.213848</td>\n",
       "      <td>6.897495e+04</td>\n",
       "      <td>8050.118480</td>\n",
       "      <td>5758.722133</td>\n",
       "      <td>2102.162525</td>\n",
       "      <td>0.539415</td>\n",
       "    </tr>\n",
       "    <tr>\n",
       "      <th>std</th>\n",
       "      <td>8160.308286</td>\n",
       "      <td>8065.120556</td>\n",
       "      <td>8172.133429</td>\n",
       "      <td>11.091531</td>\n",
       "      <td>4.404121</td>\n",
       "      <td>6.850240e+04</td>\n",
       "      <td>6763.825954</td>\n",
       "      <td>5628.106675</td>\n",
       "      <td>2087.106299</td>\n",
       "      <td>0.498446</td>\n",
       "    </tr>\n",
       "    <tr>\n",
       "      <th>min</th>\n",
       "      <td>500.000000</td>\n",
       "      <td>500.000000</td>\n",
       "      <td>0.000000</td>\n",
       "      <td>36.000000</td>\n",
       "      <td>5.420000</td>\n",
       "      <td>1.896000e+03</td>\n",
       "      <td>0.000000</td>\n",
       "      <td>0.000000</td>\n",
       "      <td>0.000000</td>\n",
       "      <td>0.000000</td>\n",
       "    </tr>\n",
       "    <tr>\n",
       "      <th>25%</th>\n",
       "      <td>7000.000000</td>\n",
       "      <td>6850.000000</td>\n",
       "      <td>6000.000000</td>\n",
       "      <td>36.000000</td>\n",
       "      <td>10.990000</td>\n",
       "      <td>4.200000e+04</td>\n",
       "      <td>3431.100000</td>\n",
       "      <td>2010.010000</td>\n",
       "      <td>736.790000</td>\n",
       "      <td>0.000000</td>\n",
       "    </tr>\n",
       "    <tr>\n",
       "      <th>50%</th>\n",
       "      <td>11500.000000</td>\n",
       "      <td>11200.000000</td>\n",
       "      <td>10625.000000</td>\n",
       "      <td>36.000000</td>\n",
       "      <td>13.980000</td>\n",
       "      <td>5.700000e+04</td>\n",
       "      <td>6103.680000</td>\n",
       "      <td>3955.340000</td>\n",
       "      <td>1432.870000</td>\n",
       "      <td>1.000000</td>\n",
       "    </tr>\n",
       "    <tr>\n",
       "      <th>75%</th>\n",
       "      <td>18000.000000</td>\n",
       "      <td>18000.000000</td>\n",
       "      <td>17500.000000</td>\n",
       "      <td>60.000000</td>\n",
       "      <td>17.100000</td>\n",
       "      <td>8.300000e+04</td>\n",
       "      <td>10608.500000</td>\n",
       "      <td>7544.620000</td>\n",
       "      <td>2720.140000</td>\n",
       "      <td>1.000000</td>\n",
       "    </tr>\n",
       "    <tr>\n",
       "      <th>max</th>\n",
       "      <td>35000.000000</td>\n",
       "      <td>35000.000000</td>\n",
       "      <td>35000.000000</td>\n",
       "      <td>60.000000</td>\n",
       "      <td>26.060000</td>\n",
       "      <td>6.000000e+06</td>\n",
       "      <td>55758.200000</td>\n",
       "      <td>35000.000000</td>\n",
       "      <td>20848.700000</td>\n",
       "      <td>1.000000</td>\n",
       "    </tr>\n",
       "  </tbody>\n",
       "</table>\n",
       "</div>"
      ],
      "text/plain": [
       "           loan_amnt    funded_amnt  funded_amnt_inv           term  \\\n",
       "count  173692.000000  173692.000000    173692.000000  173692.000000   \n",
       "mean    13152.896650   13009.695467     12558.372366      43.419755   \n",
       "std      8160.308286    8065.120556      8172.133429      11.091531   \n",
       "min       500.000000     500.000000         0.000000      36.000000   \n",
       "25%      7000.000000    6850.000000      6000.000000      36.000000   \n",
       "50%     11500.000000   11200.000000     10625.000000      36.000000   \n",
       "75%     18000.000000   18000.000000     17500.000000      60.000000   \n",
       "max     35000.000000   35000.000000     35000.000000      60.000000   \n",
       "\n",
       "            int_rate    annual_inc    total_pymnt  total_rec_prncp  \\\n",
       "count  173692.000000  1.736920e+05  173692.000000    173692.000000   \n",
       "mean       14.213848  6.897495e+04    8050.118480      5758.722133   \n",
       "std         4.404121  6.850240e+04    6763.825954      5628.106675   \n",
       "min         5.420000  1.896000e+03       0.000000         0.000000   \n",
       "25%        10.990000  4.200000e+04    3431.100000      2010.010000   \n",
       "50%        13.980000  5.700000e+04    6103.680000      3955.340000   \n",
       "75%        17.100000  8.300000e+04   10608.500000      7544.620000   \n",
       "max        26.060000  6.000000e+06   55758.200000     35000.000000   \n",
       "\n",
       "       total_rec_int    loan_status  \n",
       "count  173692.000000  173692.000000  \n",
       "mean     2102.162525       0.539415  \n",
       "std      2087.106299       0.498446  \n",
       "min         0.000000       0.000000  \n",
       "25%       736.790000       0.000000  \n",
       "50%      1432.870000       1.000000  \n",
       "75%      2720.140000       1.000000  \n",
       "max     20848.700000       1.000000  "
      ]
     },
     "execution_count": 14,
     "metadata": {},
     "output_type": "execute_result"
    }
   ],
   "source": [
    "credit_df.describe()"
   ]
  },
  {
   "cell_type": "code",
   "execution_count": 15,
   "metadata": {},
   "outputs": [
    {
     "name": "stdout",
     "output_type": "stream",
     "text": [
      "loan_amnt          11000.00\n",
      "funded_amnt        11150.00\n",
      "funded_amnt_inv    11500.00\n",
      "term                  24.00\n",
      "int_rate               6.11\n",
      "annual_inc         41000.00\n",
      "total_pymnt         7177.40\n",
      "total_rec_prncp     5534.61\n",
      "total_rec_int       1983.35\n",
      "loan_status            1.00\n",
      "dtype: float64\n"
     ]
    }
   ],
   "source": [
    "#treating outliers using quantriles\n",
    "Q1 = credit_df.quantile(0.25)\n",
    "Q3 = credit_df.quantile(0.75)\n",
    "IQR = Q3 - Q1\n",
    "print(IQR)"
   ]
  },
  {
   "cell_type": "code",
   "execution_count": 16,
   "metadata": {},
   "outputs": [
    {
     "data": {
      "text/plain": [
       "(144509, 12)"
      ]
     },
     "execution_count": 16,
     "metadata": {},
     "output_type": "execute_result"
    }
   ],
   "source": [
    "credit_df = credit_df[~((credit_df < (Q1 - 1.5 * IQR)) |(credit_df > (Q3 + 1.5 * IQR))).any(axis=1)]\n",
    "credit_df.shape"
   ]
  },
  {
   "cell_type": "code",
   "execution_count": 17,
   "metadata": {},
   "outputs": [
    {
     "data": {
      "text/html": [
       "<div>\n",
       "<style scoped>\n",
       "    .dataframe tbody tr th:only-of-type {\n",
       "        vertical-align: middle;\n",
       "    }\n",
       "\n",
       "    .dataframe tbody tr th {\n",
       "        vertical-align: top;\n",
       "    }\n",
       "\n",
       "    .dataframe thead th {\n",
       "        text-align: right;\n",
       "    }\n",
       "</style>\n",
       "<table border=\"1\" class=\"dataframe\">\n",
       "  <thead>\n",
       "    <tr style=\"text-align: right;\">\n",
       "      <th></th>\n",
       "      <th>loan_amnt</th>\n",
       "      <th>funded_amnt</th>\n",
       "      <th>funded_amnt_inv</th>\n",
       "      <th>term</th>\n",
       "      <th>int_rate</th>\n",
       "      <th>annual_inc</th>\n",
       "      <th>total_pymnt</th>\n",
       "      <th>total_rec_prncp</th>\n",
       "      <th>total_rec_int</th>\n",
       "      <th>loan_status</th>\n",
       "    </tr>\n",
       "  </thead>\n",
       "  <tbody>\n",
       "    <tr>\n",
       "      <th>count</th>\n",
       "      <td>144509.000000</td>\n",
       "      <td>144509.000000</td>\n",
       "      <td>144509.000000</td>\n",
       "      <td>144509.000000</td>\n",
       "      <td>144509.000000</td>\n",
       "      <td>144509.000000</td>\n",
       "      <td>144509.000000</td>\n",
       "      <td>144509.000000</td>\n",
       "      <td>144509.000000</td>\n",
       "      <td>144509.000000</td>\n",
       "    </tr>\n",
       "    <tr>\n",
       "      <th>mean</th>\n",
       "      <td>11321.665779</td>\n",
       "      <td>11194.709499</td>\n",
       "      <td>10739.824274</td>\n",
       "      <td>42.396224</td>\n",
       "      <td>13.798990</td>\n",
       "      <td>61909.716371</td>\n",
       "      <td>6250.775629</td>\n",
       "      <td>4482.851351</td>\n",
       "      <td>1596.291765</td>\n",
       "      <td>0.514771</td>\n",
       "    </tr>\n",
       "    <tr>\n",
       "      <th>std</th>\n",
       "      <td>6645.725463</td>\n",
       "      <td>6554.227791</td>\n",
       "      <td>6657.180213</td>\n",
       "      <td>10.611243</td>\n",
       "      <td>4.216667</td>\n",
       "      <td>27326.201178</td>\n",
       "      <td>4119.452014</td>\n",
       "      <td>3537.887886</td>\n",
       "      <td>1240.542906</td>\n",
       "      <td>0.499784</td>\n",
       "    </tr>\n",
       "    <tr>\n",
       "      <th>min</th>\n",
       "      <td>500.000000</td>\n",
       "      <td>500.000000</td>\n",
       "      <td>0.000000</td>\n",
       "      <td>36.000000</td>\n",
       "      <td>5.420000</td>\n",
       "      <td>1896.000000</td>\n",
       "      <td>0.000000</td>\n",
       "      <td>0.000000</td>\n",
       "      <td>0.000000</td>\n",
       "      <td>0.000000</td>\n",
       "    </tr>\n",
       "    <tr>\n",
       "      <th>25%</th>\n",
       "      <td>6000.000000</td>\n",
       "      <td>6000.000000</td>\n",
       "      <td>5575.000000</td>\n",
       "      <td>36.000000</td>\n",
       "      <td>10.990000</td>\n",
       "      <td>42000.000000</td>\n",
       "      <td>3093.580000</td>\n",
       "      <td>1831.490000</td>\n",
       "      <td>665.710000</td>\n",
       "      <td>0.000000</td>\n",
       "    </tr>\n",
       "    <tr>\n",
       "      <th>50%</th>\n",
       "      <td>10000.000000</td>\n",
       "      <td>10000.000000</td>\n",
       "      <td>9975.000000</td>\n",
       "      <td>36.000000</td>\n",
       "      <td>13.670000</td>\n",
       "      <td>55000.000000</td>\n",
       "      <td>5404.290000</td>\n",
       "      <td>3487.730000</td>\n",
       "      <td>1256.940000</td>\n",
       "      <td>1.000000</td>\n",
       "    </tr>\n",
       "    <tr>\n",
       "      <th>75%</th>\n",
       "      <td>15000.000000</td>\n",
       "      <td>15000.000000</td>\n",
       "      <td>14952.000000</td>\n",
       "      <td>60.000000</td>\n",
       "      <td>16.320000</td>\n",
       "      <td>78500.000000</td>\n",
       "      <td>8634.080000</td>\n",
       "      <td>6201.890000</td>\n",
       "      <td>2213.290000</td>\n",
       "      <td>1.000000</td>\n",
       "    </tr>\n",
       "    <tr>\n",
       "      <th>max</th>\n",
       "      <td>34475.000000</td>\n",
       "      <td>34475.000000</td>\n",
       "      <td>34475.000000</td>\n",
       "      <td>60.000000</td>\n",
       "      <td>26.060000</td>\n",
       "      <td>144500.000000</td>\n",
       "      <td>21215.100000</td>\n",
       "      <td>15825.000000</td>\n",
       "      <td>5693.640000</td>\n",
       "      <td>1.000000</td>\n",
       "    </tr>\n",
       "  </tbody>\n",
       "</table>\n",
       "</div>"
      ],
      "text/plain": [
       "           loan_amnt    funded_amnt  funded_amnt_inv           term  \\\n",
       "count  144509.000000  144509.000000    144509.000000  144509.000000   \n",
       "mean    11321.665779   11194.709499     10739.824274      42.396224   \n",
       "std      6645.725463    6554.227791      6657.180213      10.611243   \n",
       "min       500.000000     500.000000         0.000000      36.000000   \n",
       "25%      6000.000000    6000.000000      5575.000000      36.000000   \n",
       "50%     10000.000000   10000.000000      9975.000000      36.000000   \n",
       "75%     15000.000000   15000.000000     14952.000000      60.000000   \n",
       "max     34475.000000   34475.000000     34475.000000      60.000000   \n",
       "\n",
       "            int_rate     annual_inc    total_pymnt  total_rec_prncp  \\\n",
       "count  144509.000000  144509.000000  144509.000000    144509.000000   \n",
       "mean       13.798990   61909.716371    6250.775629      4482.851351   \n",
       "std         4.216667   27326.201178    4119.452014      3537.887886   \n",
       "min         5.420000    1896.000000       0.000000         0.000000   \n",
       "25%        10.990000   42000.000000    3093.580000      1831.490000   \n",
       "50%        13.670000   55000.000000    5404.290000      3487.730000   \n",
       "75%        16.320000   78500.000000    8634.080000      6201.890000   \n",
       "max        26.060000  144500.000000   21215.100000     15825.000000   \n",
       "\n",
       "       total_rec_int    loan_status  \n",
       "count  144509.000000  144509.000000  \n",
       "mean     1596.291765       0.514771  \n",
       "std      1240.542906       0.499784  \n",
       "min         0.000000       0.000000  \n",
       "25%       665.710000       0.000000  \n",
       "50%      1256.940000       1.000000  \n",
       "75%      2213.290000       1.000000  \n",
       "max      5693.640000       1.000000  "
      ]
     },
     "execution_count": 17,
     "metadata": {},
     "output_type": "execute_result"
    }
   ],
   "source": [
    "credit_df.describe()"
   ]
  },
  {
   "cell_type": "code",
   "execution_count": 18,
   "metadata": {},
   "outputs": [
    {
     "data": {
      "text/plain": [
       "loan_amnt            int64\n",
       "funded_amnt          int64\n",
       "funded_amnt_inv      int64\n",
       "term                 int64\n",
       "int_rate           float64\n",
       "home_ownership       int32\n",
       "annual_inc           int64\n",
       "purpose              int32\n",
       "total_pymnt        float64\n",
       "total_rec_prncp    float64\n",
       "total_rec_int      float64\n",
       "loan_status          int64\n",
       "dtype: object"
      ]
     },
     "execution_count": 18,
     "metadata": {},
     "output_type": "execute_result"
    }
   ],
   "source": [
    "#converting categorical variables to numeric using label encoding\n",
    "from sklearn import preprocessing\n",
    "from sklearn.preprocessing import LabelEncoder\n",
    "cat=['home_ownership','purpose']\n",
    "for var in cat:\n",
    "    le = preprocessing.LabelEncoder()\n",
    "    credit_df[var]=le.fit_transform(credit_df[var].astype('str'))\n",
    "credit_df.dtypes"
   ]
  },
  {
   "cell_type": "code",
   "execution_count": 19,
   "metadata": {},
   "outputs": [
    {
     "data": {
      "text/html": [
       "<div>\n",
       "<style scoped>\n",
       "    .dataframe tbody tr th:only-of-type {\n",
       "        vertical-align: middle;\n",
       "    }\n",
       "\n",
       "    .dataframe tbody tr th {\n",
       "        vertical-align: top;\n",
       "    }\n",
       "\n",
       "    .dataframe thead th {\n",
       "        text-align: right;\n",
       "    }\n",
       "</style>\n",
       "<table border=\"1\" class=\"dataframe\">\n",
       "  <thead>\n",
       "    <tr style=\"text-align: right;\">\n",
       "      <th></th>\n",
       "      <th>loan_amnt</th>\n",
       "      <th>funded_amnt</th>\n",
       "      <th>funded_amnt_inv</th>\n",
       "      <th>term</th>\n",
       "      <th>int_rate</th>\n",
       "      <th>home_ownership</th>\n",
       "      <th>annual_inc</th>\n",
       "      <th>purpose</th>\n",
       "      <th>total_pymnt</th>\n",
       "      <th>total_rec_prncp</th>\n",
       "      <th>total_rec_int</th>\n",
       "      <th>loan_status</th>\n",
       "    </tr>\n",
       "  </thead>\n",
       "  <tbody>\n",
       "    <tr>\n",
       "      <th>0</th>\n",
       "      <td>5000</td>\n",
       "      <td>5000</td>\n",
       "      <td>4975</td>\n",
       "      <td>36</td>\n",
       "      <td>10.65</td>\n",
       "      <td>1</td>\n",
       "      <td>1896</td>\n",
       "      <td>0</td>\n",
       "      <td>5861.07</td>\n",
       "      <td>5000.00</td>\n",
       "      <td>861.07</td>\n",
       "      <td>1</td>\n",
       "    </tr>\n",
       "    <tr>\n",
       "      <th>2</th>\n",
       "      <td>2400</td>\n",
       "      <td>2400</td>\n",
       "      <td>2400</td>\n",
       "      <td>36</td>\n",
       "      <td>15.96</td>\n",
       "      <td>1</td>\n",
       "      <td>3300</td>\n",
       "      <td>3</td>\n",
       "      <td>3003.65</td>\n",
       "      <td>2400.00</td>\n",
       "      <td>603.65</td>\n",
       "      <td>1</td>\n",
       "    </tr>\n",
       "    <tr>\n",
       "      <th>3</th>\n",
       "      <td>10000</td>\n",
       "      <td>10000</td>\n",
       "      <td>10000</td>\n",
       "      <td>36</td>\n",
       "      <td>13.49</td>\n",
       "      <td>1</td>\n",
       "      <td>3500</td>\n",
       "      <td>3</td>\n",
       "      <td>12226.30</td>\n",
       "      <td>10000.00</td>\n",
       "      <td>2209.33</td>\n",
       "      <td>1</td>\n",
       "    </tr>\n",
       "    <tr>\n",
       "      <th>4</th>\n",
       "      <td>3000</td>\n",
       "      <td>3000</td>\n",
       "      <td>3000</td>\n",
       "      <td>60</td>\n",
       "      <td>12.69</td>\n",
       "      <td>1</td>\n",
       "      <td>3600</td>\n",
       "      <td>3</td>\n",
       "      <td>2496.48</td>\n",
       "      <td>1615.66</td>\n",
       "      <td>880.82</td>\n",
       "      <td>1</td>\n",
       "    </tr>\n",
       "    <tr>\n",
       "      <th>5</th>\n",
       "      <td>5000</td>\n",
       "      <td>5000</td>\n",
       "      <td>5000</td>\n",
       "      <td>36</td>\n",
       "      <td>7.90</td>\n",
       "      <td>1</td>\n",
       "      <td>4000</td>\n",
       "      <td>3</td>\n",
       "      <td>5631.38</td>\n",
       "      <td>5000.00</td>\n",
       "      <td>631.38</td>\n",
       "      <td>1</td>\n",
       "    </tr>\n",
       "  </tbody>\n",
       "</table>\n",
       "</div>"
      ],
      "text/plain": [
       "   loan_amnt  funded_amnt  funded_amnt_inv  term  int_rate  home_ownership  \\\n",
       "0       5000         5000             4975    36     10.65               1   \n",
       "2       2400         2400             2400    36     15.96               1   \n",
       "3      10000        10000            10000    36     13.49               1   \n",
       "4       3000         3000             3000    60     12.69               1   \n",
       "5       5000         5000             5000    36      7.90               1   \n",
       "\n",
       "   annual_inc  purpose  total_pymnt  total_rec_prncp  total_rec_int  \\\n",
       "0        1896        0      5861.07          5000.00         861.07   \n",
       "2        3300        3      3003.65          2400.00         603.65   \n",
       "3        3500        3     12226.30         10000.00        2209.33   \n",
       "4        3600        3      2496.48          1615.66         880.82   \n",
       "5        4000        3      5631.38          5000.00         631.38   \n",
       "\n",
       "   loan_status  \n",
       "0            1  \n",
       "2            1  \n",
       "3            1  \n",
       "4            1  \n",
       "5            1  "
      ]
     },
     "execution_count": 19,
     "metadata": {},
     "output_type": "execute_result"
    }
   ],
   "source": [
    "#final dataset after preprocessing\n",
    "credit_df.head()"
   ]
  },
  {
   "cell_type": "code",
   "execution_count": 20,
   "metadata": {},
   "outputs": [
    {
     "name": "stdout",
     "output_type": "stream",
     "text": [
      "(115607, 11)\n",
      "(28902, 11)\n",
      "(115607, 1)\n",
      "(28902, 1)\n"
     ]
    }
   ],
   "source": [
    "#spliting variables into features and targets and hennce into train and test sets\n",
    "features = credit_df.drop(columns=['loan_status'])\n",
    "targets = pd.DataFrame(credit_df['loan_status'])\n",
    "\n",
    "# Split into 80% training and 20% testing set\n",
    "X_train, X_test, y_train, y_test = train_test_split(features, targets, test_size = 0.2)\n",
    "\n",
    "print(X_train.shape)\n",
    "print(X_test.shape)\n",
    "print(y_train.shape)\n",
    "print(y_test.shape)"
   ]
  },
  {
   "cell_type": "code",
   "execution_count": 21,
   "metadata": {},
   "outputs": [],
   "source": [
    "# # # Models to Evaluate\n",
    "# We will compare three different machine learning Cassification models:\n",
    "# 1 - Naive Bayes\n",
    "# 2 - Logistic Regression\n",
    "# 3 - Random Forest Classification\n",
    "\n",
    "# Function to calculate mean absolute error\n",
    "def cross_val(X_train, y_train, model):\n",
    "    # Applying k-Fold Cross Validation\n",
    "    from sklearn.model_selection import cross_val_score\n",
    "    accuracies = cross_val_score(estimator = model, X = X_train, y = y_train, cv = 5)\n",
    "    return accuracies.mean()\n",
    "\n",
    "# Takes in a model, trains the model, and evaluates the model on the test set\n",
    "def fit_and_evaluate(model):\n",
    "    \n",
    "    # Train the model\n",
    "    model.fit(X_train, y_train)\n",
    "    \n",
    "    # Make predictions and evalute\n",
    "    model_pred = model.predict(X_test)\n",
    "    model_cross = cross_val(X_train, y_train, model)\n",
    "    \n",
    "    # Return the performance metric\n",
    "    return model_cross"
   ]
  },
  {
   "cell_type": "code",
   "execution_count": 22,
   "metadata": {},
   "outputs": [],
   "source": [
    "# # Feature Scaling\n",
    "from sklearn.preprocessing import StandardScaler\n",
    "sc = StandardScaler()\n",
    "X_train = sc.fit_transform(X_train)\n",
    "X_test = sc.transform(X_test)"
   ]
  },
  {
   "cell_type": "code",
   "execution_count": 23,
   "metadata": {},
   "outputs": [],
   "source": [
    "# Convert y to one-dimensional array (vector)\n",
    "y_train = np.array(y_train).reshape((-1, ))\n",
    "y_test = np.array(y_test).reshape((-1, ))"
   ]
  },
  {
   "cell_type": "code",
   "execution_count": 24,
   "metadata": {},
   "outputs": [
    {
     "data": {
      "text/plain": [
       "1    66383\n",
       "0    65244\n",
       "2    12882\n",
       "Name: home_ownership, dtype: int64"
      ]
     },
     "execution_count": 24,
     "metadata": {},
     "output_type": "execute_result"
    }
   ],
   "source": [
    "credit_df.home_ownership.value_counts()"
   ]
  },
  {
   "cell_type": "code",
   "execution_count": 25,
   "metadata": {},
   "outputs": [
    {
     "name": "stdout",
     "output_type": "stream",
     "text": [
      "Naive Bayes Performance on the test set: Cross Validation Score = 0.7043\n"
     ]
    }
   ],
   "source": [
    "# # Naive Bayes\n",
    "from sklearn.naive_bayes import GaussianNB\n",
    "naive = GaussianNB()\n",
    "naive_cross = fit_and_evaluate(naive)\n",
    "\n",
    "print('Naive Bayes Performance on the test set: Cross Validation Score = %0.4f' % naive_cross)"
   ]
  },
  {
   "cell_type": "code",
   "execution_count": 26,
   "metadata": {},
   "outputs": [
    {
     "name": "stdout",
     "output_type": "stream",
     "text": [
      "logistic regression Classification Performance on the test set: Cross Validation Score = 0.8167\n"
     ]
    }
   ],
   "source": [
    "# # logistic regression Classification\n",
    "from sklearn.linear_model import LogisticRegression\n",
    "lr = LogisticRegression()\n",
    "lr_cross = fit_and_evaluate(lr)\n",
    "\n",
    "print('logistic regression Classification Performance on the test set: Cross Validation Score = %0.4f' % lr_cross)"
   ]
  },
  {
   "cell_type": "code",
   "execution_count": 27,
   "metadata": {},
   "outputs": [],
   "source": [
    "pred_y_lr = lr.predict(X_test) "
   ]
  },
  {
   "cell_type": "code",
   "execution_count": 28,
   "metadata": {},
   "outputs": [],
   "source": [
    "from sklearn import metrics\n",
    "import matplotlib.pyplot as plt\n",
    "import seaborn as sn\n",
    "%matplotlib inline\n",
    "def draw_cm( actual, predicted ):      \n",
    "    cm = metrics.confusion_matrix( actual, predicted, [1,0] )    \n",
    "    sn.heatmap(cm, annot=True,  fmt='.2f',  xticklabels = [\"Good credit\", \"Bad Credit\"] , yticklabels = [\"Good credit\", \"Bad Credit\"] )    \n",
    "    plt.ylabel('True label')    \n",
    "    plt.xlabel('Predicted label')    \n",
    "    plt.show() "
   ]
  },
  {
   "cell_type": "code",
   "execution_count": 29,
   "metadata": {},
   "outputs": [
    {
     "data": {
      "image/png": "[encoded data removed]",
      "text/plain": [
       "<Figure size 432x288 with 2 Axes>"
      ]
     },
     "metadata": {
      "needs_background": "light"
     },
     "output_type": "display_data"
    },
    {
     "name": "stdout",
     "output_type": "stream",
     "text": [
      "              precision    recall  f1-score   support\n",
      "\n",
      "           0       0.83      0.79      0.81     13895\n",
      "           1       0.81      0.85      0.83     15007\n",
      "\n",
      "    accuracy                           0.82     28902\n",
      "   macro avg       0.82      0.82      0.82     28902\n",
      "weighted avg       0.82      0.82      0.82     28902\n",
      "\n"
     ]
    }
   ],
   "source": [
    "#drawing confusion matrix\n",
    "cm = draw_cm( y_test, pred_y_lr ) \n",
    "cm\n",
    "print( metrics.classification_report( y_test, pred_y_lr) ) "
   ]
  },
  {
   "cell_type": "code",
   "execution_count": 30,
   "metadata": {},
   "outputs": [
    {
     "name": "stdout",
     "output_type": "stream",
     "text": [
      "Random Forest Performance on the test set: Cross Validation Score = 0.9949\n"
     ]
    }
   ],
   "source": [
    "# # Random Forest Classification\n",
    "from sklearn.ensemble import RandomForestClassifier\n",
    "random = RandomForestClassifier(n_estimators = 10, criterion = 'entropy')\n",
    "random_cross = fit_and_evaluate(random)\n",
    "\n",
    "print('Random Forest Performance on the test set: Cross Validation Score = %0.4f' % random_cross)"
   ]
  },
  {
   "cell_type": "code",
   "execution_count": 31,
   "metadata": {},
   "outputs": [],
   "source": [
    "pred_y_rf = random.predict(X_test) "
   ]
  },
  {
   "cell_type": "code",
   "execution_count": 32,
   "metadata": {},
   "outputs": [
    {
     "data": {
      "image/png": "[encoded data removed]",
      "text/plain": [
       "<Figure size 432x288 with 2 Axes>"
      ]
     },
     "metadata": {
      "needs_background": "light"
     },
     "output_type": "display_data"
    }
   ],
   "source": [
    "cm = draw_cm( y_test, pred_y_rf ) \n",
    "cm"
   ]
  },
  {
   "cell_type": "code",
   "execution_count": 33,
   "metadata": {},
   "outputs": [
    {
     "name": "stdout",
     "output_type": "stream",
     "text": [
      "              precision    recall  f1-score   support\n",
      "\n",
      "           0       0.99      1.00      1.00     13895\n",
      "           1       1.00      0.99      1.00     15007\n",
      "\n",
      "    accuracy                           1.00     28902\n",
      "   macro avg       1.00      1.00      1.00     28902\n",
      "weighted avg       1.00      1.00      1.00     28902\n",
      "\n"
     ]
    }
   ],
   "source": [
    "print( metrics.classification_report( y_test, pred_y_rf) ) "
   ]
  },
  {
   "cell_type": "code",
   "execution_count": 34,
   "metadata": {},
   "outputs": [],
   "source": [
    "#deploying the model using pickle\n",
    "import pickle"
   ]
  },
  {
   "cell_type": "code",
   "execution_count": 35,
   "metadata": {},
   "outputs": [],
   "source": [
    "pickle.dump(random,open('model.pkl','wb'))"
   ]
  },
  {
   "cell_type": "code",
   "execution_count": 36,
   "metadata": {},
   "outputs": [],
   "source": [
    "model = pickle.load(open('model.pkl','rb'))"
   ]
  },
  {
   "cell_type": "code",
   "execution_count": 37,
   "metadata": {},
   "outputs": [
    {
     "name": "stdout",
     "output_type": "stream",
     "text": [
      "You will not default the loan\n"
     ]
    }
   ],
   "source": [
    "if (model.predict([[8000,8000,8000,36,7.49,2,32000,1,8050.31,8000.00,50.31]])==0):\n",
    "    print(\"You will default the loan\")\n",
    "else:\n",
    "    print(\"You will not default the loan\")"
   ]
  },
  {
   "cell_type": "code",
   "execution_count": 38,
   "metadata": {},
   "outputs": [
    {
     "name": "stdout",
     "output_type": "stream",
     "text": [
      "You will not default the loan\n"
     ]
    }
   ],
   "source": [
    "#Final prediction\n",
    "if (model.predict([[5600,5600,5600,60,21.28,2,4080,3,646.02,162.02,294.95]])==1):\n",
    "    print(\"You will default the loan\")\n",
    "else:\n",
    "    print(\"You will not default the loan\")"
   ]
  },
  {
   "cell_type": "code",
   "execution_count": null,
   "metadata": {},
   "outputs": [],
   "source": []
  }
 ],
 "metadata": {
  "kernelspec": {
   "display_name": "Python 3",
   "language": "python",
   "name": "python3"
  },
  "language_info": {
   "codemirror_mode": {
    "name": "ipython",
    "version": 3
   },
   "file_extension": ".py",
   "mimetype": "text/x-python",
   "name": "python",
   "nbconvert_exporter": "python",
   "pygments_lexer": "ipython3",
   "version": "3.8.5"
  }
 },
 "nbformat": 4,
 "nbformat_minor": 2
}
